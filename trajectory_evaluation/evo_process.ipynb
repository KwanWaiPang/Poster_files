{
 "cells": [
  {
   "cell_type": "markdown",
   "metadata": {},
   "source": [
    "# The quantitative accuracy evaluation of VO/VIO/SLAM\n",
    "First, the estimated trajectory needs to be aligned with the groundtruth.\n",
    "Then, the trajectory estimation error can be calculated from the aligned estimate and the groundtruth using certain error metrics (i.e., absolute trajectory error and relative error).\n",
    "\n",
    "In this file, we demonstrate how to calculate these evaluation metrics and visualize the results using [evo](https://github.com/MichaelGrupp/evo) in python code.\n",
    "* More details of command line interface can be seen in [Our Github Repository](https://github.com/arclab-hku/Event_based_VO-VIO-SLAM/issues/5)\n",
    "* While more details of the quantitative evaluation of pose tracking can be seen in [our paper](), and [rpg_trajectory_evaluation](https://www.zora.uzh.ch/id/eprint/175991/1/IROS18_Zhang.pdf).\n",
    "* You need to install the evo package before running the code.\n",
    "~~~\n",
    " pip install evo\n",
    "~~~\n",
    "\n",
    "## Tips on using this ipynb\n",
    "* Setup the conda environment following [Link](https://github.com/KwanWaiPang/ESIM_comment), and select the kernel as vid2e; When using the Server, you can run the following command to speed up the process:\n",
    "~~~\n",
    "conda activate vid2e\n",
    "pip install ipykernel\n",
    "~~~\n",
    "* Download the sampled dataset\n",
    "~~~\n",
    "conda activate nerf-ngp\n",
    "bypy list\n",
    "bypy download [remotepath] [localpath]\n",
    "~~~"
   ]
  },
  {
   "cell_type": "code",
   "execution_count": 6,
   "metadata": {},
   "outputs": [
    {
     "name": "stdout",
     "output_type": "stream",
     "text": [
      "import ultils to process the rosbag\n"
     ]
    }
   ],
   "source": [
    "import numpy as np\n",
    "import multiprocessing #多线程处理\n",
    "import cv2\n",
    "import matplotlib.pyplot as plt #绘图\n",
    "\n",
    "\n",
    "import rosbag #处理rosbag\n",
    "from cv_bridge import CvBridge\n",
    "\n",
    "import sys\n",
    "sys.path.append('/home/gwp/Poster_files/trajectory_evaluation')  # 替换为实际的路径(注意如果修改了py文件的代码需要重新restart kernel)\n",
    "from utils.bag_utils import read_H_W_from_bag, read_tss_us_from_rosbag, read_images_from_rosbag, read_evs_from_rosbag, read_calib_from_bag, read_t0us_evs_from_rosbag, read_poses_from_rosbag\n",
    "print(\"import ultils to process the rosbag\")"
   ]
  },
  {
   "cell_type": "code",
   "execution_count": null,
   "metadata": {},
   "outputs": [],
   "source": []
  }
 ],
 "metadata": {
  "kernelspec": {
   "display_name": "vid2e",
   "language": "python",
   "name": "python3"
  },
  "language_info": {
   "codemirror_mode": {
    "name": "ipython",
    "version": 3
   },
   "file_extension": ".py",
   "mimetype": "text/x-python",
   "name": "python",
   "nbconvert_exporter": "python",
   "pygments_lexer": "ipython3",
   "version": "3.9.19"
  }
 },
 "nbformat": 4,
 "nbformat_minor": 2
}
